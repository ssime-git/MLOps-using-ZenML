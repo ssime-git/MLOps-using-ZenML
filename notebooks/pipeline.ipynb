{
  "cells": [
    {
      "cell_type": "code",
      "execution_count": null,
      "metadata": {
        "colab": {
          "base_uri": "https://localhost:8080/"
        },
        "id": "Vpqb0iG0iZ1v",
        "outputId": "07ca28e9-c502-4a79-928a-d3d7494c0c16"
      },
      "outputs": [],
      "source": [
        "# in requirements.txt\n",
        "# %pip install \"zenml[server]\""
      ]
    },
    {
      "cell_type": "code",
      "execution_count": 8,
      "metadata": {
        "colab": {
          "base_uri": "https://localhost:8080/"
        },
        "id": "HDsvY8Rria7X",
        "outputId": "194acd70-0d95-476c-c726-0a019c62abea"
      },
      "outputs": [
        {
          "name": "stdout",
          "output_type": "stream",
          "text": [
            "\u001b[1;35mNumExpr defaulting to 2 threads.\u001b[0m\n",
            "\u001b[2K\u001b[32m⠴\u001b[0m Installing integrations...\n",
            "\u001b[1A\u001b[2K"
          ]
        }
      ],
      "source": [
        "#!zenml integration install sklearn -y"
      ]
    },
    {
      "cell_type": "code",
      "execution_count": 9,
      "metadata": {
        "colab": {
          "base_uri": "https://localhost:8080/"
        },
        "id": "HxfONlzNiswC",
        "outputId": "f33574e8-eef8-42f4-e488-5ffa271c4f2c"
      },
      "outputs": [
        {
          "name": "stdout",
          "output_type": "stream",
          "text": [
            "Requirement already satisfied: pyparsing==2.4.2 in /usr/local/lib/python3.10/dist-packages (2.4.2)\n"
          ]
        }
      ],
      "source": [
        "#!pip install pyparsing==2.4.2"
      ]
    },
    {
      "cell_type": "code",
      "execution_count": 11,
      "metadata": {
        "colab": {
          "base_uri": "https://localhost:8080/"
        },
        "id": "yTcnDjdsi1t1",
        "outputId": "e8a96688-bec1-43a4-8a6d-1ef97c0f3bc5"
      },
      "outputs": [
        {
          "data": {
            "text/plain": [
              "{'status': 'ok', 'restart': True}"
            ]
          },
          "execution_count": 11,
          "metadata": {},
          "output_type": "execute_result"
        }
      ],
      "source": [
        "#import IPython\n",
        "\n",
        "#IPython.Application.instance().kernel.do_shutdown(restart = True)"
      ]
    },
    {
      "cell_type": "code",
      "execution_count": 1,
      "metadata": {
        "id": "RZVY8HzQjAR5"
      },
      "outputs": [],
      "source": [
        "import config\n",
        "NGROK_TOKEN = config.NGROK_TOKEN"
      ]
    },
    {
      "cell_type": "code",
      "execution_count": 2,
      "metadata": {
        "colab": {
          "base_uri": "https://localhost:8080/"
        },
        "id": "4aroeWIrjpE1",
        "outputId": "dfb18469-9fb7-465a-9eb8-a94d8b3a7d2e"
      },
      "outputs": [],
      "source": [
        "from zenml.environment import Environment\n",
        "\n",
        "if Environment.in_google_colab() :\n",
        "    #!pip install pyngrok\n",
        "    !ngrok authtoken {NGROK_TOKEN}"
      ]
    },
    {
      "cell_type": "code",
      "execution_count": 3,
      "metadata": {
        "colab": {
          "base_uri": "https://localhost:8080/"
        },
        "id": "0Jo8GQ0aj6AY",
        "outputId": "4b3d5c1f-d8e5-4161-885e-9001b754ec8d"
      },
      "outputs": [
        {
          "name": "stdout",
          "output_type": "stream",
          "text": [
            "\u001b[?25l\u001b[1;35mInitializing the ZenML global configuration version to 0.72.0\u001b[0m\n",
            "\u001b[32m⠋\u001b[0m Initializing ZenML repository at /workspaces/MLOps-using-ZenML/notebooks.\n",
            "\u001b[1;35mCreating database tables\u001b[0m\n",
            "\u001b[2K\u001b[1A\u001b[2K\u001b[32m⠙\u001b[0m Initializing ZenML repository at /workspaces/MLOps-using-ZenML/notebooks.\n",
            "\u001b[2K\u001b[1A\u001b[2K\u001b[32m⠹\u001b[0m Initializing ZenML repository at /workspaces/MLOps-using-ZenML/notebooks.\n",
            "\u001b[2K\u001b[1A\u001b[2K\u001b[32m⠸\u001b[0m Initializing ZenML repository at /workspaces/MLOps-using-ZenML/notebooks.\n",
            "\u001b[2K\u001b[1A\u001b[2K\u001b[32m⠼\u001b[0m Initializing ZenML repository at /workspaces/MLOps-using-ZenML/notebooks.\n",
            "\u001b[2K\u001b[1A\u001b[2K\u001b[32m⠴\u001b[0m Initializing ZenML repository at /workspaces/MLOps-using-ZenML/notebooks.\n",
            "\u001b[2K\u001b[1A\u001b[2K\u001b[32m⠦\u001b[0m Initializing ZenML repository at /workspaces/MLOps-using-ZenML/notebooks.\n",
            "\u001b[2K\u001b[1A\u001b[2K\u001b[32m⠧\u001b[0m Initializing ZenML repository at /workspaces/MLOps-using-ZenML/notebooks.\n",
            "\u001b[2K\u001b[1A\u001b[2K\u001b[32m⠇\u001b[0m Initializing ZenML repository at /workspaces/MLOps-using-ZenML/notebooks.\n",
            "\u001b[2K\u001b[1A\u001b[2K\u001b[32m⠏\u001b[0m Initializing ZenML repository at /workspaces/MLOps-using-ZenML/notebooks.\n",
            "\u001b[2K\u001b[1A\u001b[2K\u001b[32m⠋\u001b[0m Initializing ZenML repository at /workspaces/MLOps-using-ZenML/notebooks.\n",
            "\u001b[2K\u001b[1A\u001b[2K\u001b[32m⠙\u001b[0m Initializing ZenML repository at /workspaces/MLOps-using-ZenML/notebooks.\n",
            "\u001b[2K\u001b[1A\u001b[2K\u001b[32m⠹\u001b[0m Initializing ZenML repository at /workspaces/MLOps-using-ZenML/notebooks.\n",
            "\u001b[2K\u001b[1A\u001b[2K\u001b[32m⠼\u001b[0m Initializing ZenML repository at /workspaces/MLOps-using-ZenML/notebooks.\n",
            "\u001b[2K\u001b[1A\u001b[2K\u001b[32m⠴\u001b[0m Initializing ZenML repository at /workspaces/MLOps-using-ZenML/notebooks.\n",
            "\u001b[2K\u001b[1A\u001b[2K\u001b[32m⠦\u001b[0m Initializing ZenML repository at /workspaces/MLOps-using-ZenML/notebooks.\n",
            "\u001b[2K\u001b[1A\u001b[2K\u001b[32m⠧\u001b[0m Initializing ZenML repository at /workspaces/MLOps-using-ZenML/notebooks.\n",
            "\u001b[2K\u001b[1A\u001b[2K\u001b[32m⠇\u001b[0m Initializing ZenML repository at /workspaces/MLOps-using-ZenML/notebooks.\n",
            "\u001b[2K\u001b[1A\u001b[2K\u001b[32m⠏\u001b[0m Initializing ZenML repository at /workspaces/MLOps-using-ZenML/notebooks.\n",
            "\u001b[2K\u001b[1A\u001b[2K\u001b[32m⠋\u001b[0m Initializing ZenML repository at /workspaces/MLOps-using-ZenML/notebooks.\n",
            "\u001b[2K\u001b[1A\u001b[2K\u001b[32m⠙\u001b[0m Initializing ZenML repository at /workspaces/MLOps-using-ZenML/notebooks.\n",
            "\u001b[2K\u001b[1A\u001b[2K\u001b[32m⠹\u001b[0m Initializing ZenML repository at /workspaces/MLOps-using-ZenML/notebooks.\n",
            "\u001b[2K\u001b[1A\u001b[2K\u001b[32m⠸\u001b[0m Initializing ZenML repository at /workspaces/MLOps-using-ZenML/notebooks.\n",
            "\u001b[2K\u001b[1A\u001b[2K\u001b[32m⠼\u001b[0m Initializing ZenML repository at /workspaces/MLOps-using-ZenML/notebooks.\n",
            "\u001b[2K\u001b[1A\u001b[2K\u001b[32m⠴\u001b[0m Initializing ZenML repository at /workspaces/MLOps-using-ZenML/notebooks.\n",
            "\u001b[1;35mCreating default workspace 'default' ...\u001b[0m\n",
            "\u001b[1;35mCreating default stack in workspace default...\u001b[0m\n",
            "\u001b[2K\u001b[1A\u001b[2K\u001b[32m⠦\u001b[0m Initializing ZenML repository at /workspaces/MLOps-using-ZenML/notebooks.\n",
            "\u001b[2K\u001b[1A\u001b[2K\u001b[32m⠧\u001b[0m Initializing ZenML repository at /workspaces/MLOps-using-ZenML/notebooks.\n",
            "\u001b[2K\u001b[1A\u001b[2K\u001b[32m⠇\u001b[0m Initializing ZenML repository at /workspaces/MLOps-using-ZenML/notebooks.\n",
            "\u001b[2K\u001b[1A\u001b[2K\u001b[32m⠏\u001b[0m Initializing ZenML repository at /workspaces/MLOps-using-ZenML/notebooks.\n",
            "\u001b[2K\u001b[1A\u001b[2K\u001b[32m⠋\u001b[0m Initializing ZenML repository at /workspaces/MLOps-using-ZenML/notebooks.\n",
            "\u001b[2K\u001b[1A\u001b[2K\u001b[32m⠙\u001b[0m Initializing ZenML repository at /workspaces/MLOps-using-ZenML/notebooks.\n",
            "\u001b[1;35mSetting the global active workspace to 'default'.\u001b[0m\n",
            "\u001b[33mSetting the global active stack to default.\u001b[0m\n",
            "\u001b[1;35mSetting the repo active workspace to 'default'.\u001b[0m\n",
            "\u001b[33mSetting the repo active stack to default.\u001b[0m\n",
            "\u001b[2K\u001b[1A\u001b[2K\u001b[2;36mZenML repository initialized at \u001b[0m\u001b[2;35m/workspaces/MLOps-using-ZenML/\u001b[0m\u001b[2;95mnotebooks.\u001b[0m\n",
            "\u001b[2;32m⠹\u001b[0m\u001b[2;36m Initializing ZenML repository at /workspaces/MLOps-using-ZenML/notebooks.\u001b[0m\n",
            "\u001b[2K\u001b[1A\u001b[2K\u001b[32m⠹\u001b[0m Initializing ZenML repository at /workspaces/MLOps-using-ZenML/notebooks.\n",
            "\n",
            "\u001b[1A\u001b[2K\u001b[1A\u001b[2K\u001b[2;36mThe local active stack was initialized to \u001b[0m\u001b[2;32m'default'\u001b[0m\u001b[2;36m. This local configuration \u001b[0m\n",
            "\u001b[2;36mwill only take effect when you're running ZenML from the initialized repository \u001b[0m\n",
            "\u001b[2;36mroot, or from a subdirectory. For more information on repositories and \u001b[0m\n",
            "\u001b[2;36mconfigurations, please visit \u001b[0m\n",
            "\u001b[2;4;94mhttps://docs.zenml.io/user-guide/production-guide/understand-stacks.\u001b[0m\n"
          ]
        }
      ],
      "source": [
        "!rm -rf .zen\n",
        "!zenml init"
      ]
    },
    {
      "cell_type": "markdown",
      "metadata": {
        "id": "_m3KRVoLkUES"
      },
      "source": [
        "### ML experiment"
      ]
    },
    {
      "cell_type": "code",
      "execution_count": 4,
      "metadata": {
        "colab": {
          "base_uri": "https://localhost:8080/"
        },
        "id": "gG8-STDykEPi",
        "outputId": "b4cd6f34-d218-4d0f-ba8d-966995074126"
      },
      "outputs": [
        {
          "name": "stdout",
          "output_type": "stream",
          "text": [
            "test accuracy --> 0.9583333333333334\n"
          ]
        }
      ],
      "source": [
        "import numpy as np\n",
        "from sklearn.base import ClassifierMixin\n",
        "from sklearn.svm import SVC\n",
        "from sklearn.datasets import load_digits\n",
        "from sklearn.model_selection import train_test_split\n",
        "from sklearn.metrics import accuracy_score\n",
        "\n",
        "def train_test() -> None :\n",
        "    digit = load_digits()\n",
        "    data = digit.images.reshape((len(digit.images), -1)) # X\n",
        "    X_train, X_test, y_train, y_test = train_test_split(\n",
        "        data, digit.target, test_size = 0.2, shuffle = False, random_state = 42\n",
        "    )\n",
        "    model = SVC(gamma = 0.001)\n",
        "    model.fit(X_train, y_train)\n",
        "    y_pred = model.predict(X_test)\n",
        "    test_acc = accuracy_score(y_test, y_pred)\n",
        "    print(f\"test accuracy --> {test_acc}\")\n",
        "\n",
        "train_test()"
      ]
    },
    {
      "cell_type": "markdown",
      "metadata": {
        "id": "qUGci6Frl7bi"
      },
      "source": [
        "### Turning experiments into ML pipelines with zenML"
      ]
    },
    {
      "cell_type": "code",
      "execution_count": 5,
      "metadata": {
        "id": "GejE83JSk-lZ"
      },
      "outputs": [],
      "source": [
        "from zenml import step\n",
        "from typing_extensions import Annotated\n",
        "import pandas as pd\n",
        "from typing import Tuple\n",
        "\n",
        "@step\n",
        "def importer() -> Tuple[Annotated[np.ndarray, \"X_train\"], Annotated[np.ndarray, \"X_test\"], Annotated[np.ndarray, \"y_train\"], Annotated[np.ndarray, \"y_test\"]] :\n",
        "    digits = load_digits()\n",
        "    data = digits[\"data\"]\n",
        "    X_train, X_test, y_train, y_test = train_test_split(\n",
        "        data, digits[\"target\"], test_size = 0.2, shuffle = False, random_state = 42\n",
        "    )\n",
        "    return X_train, X_test, y_train, y_test\n",
        "\n",
        "@step\n",
        "def svc_trainer(X_train: np.ndarray, y_train: np.ndarray) -> ClassifierMixin:\n",
        "    model = SVC(gamma = 0.001)\n",
        "    model.fit(X_train, y_train)\n",
        "    return model\n",
        "\n",
        "@step\n",
        "def evaluator(X_test: np.ndarray, y_test: np.ndarray, model: ClassifierMixin) -> float :\n",
        "    y_pred = model.predict(X_test)\n",
        "    test_acc = accuracy_score(y_test, y_pred)\n",
        "    print(f\"test accuracy --> {test_acc}\")\n",
        "    return test_acc\n"
      ]
    },
    {
      "cell_type": "code",
      "execution_count": 6,
      "metadata": {
        "id": "JiXZCGn3mQsg"
      },
      "outputs": [],
      "source": [
        "from zenml import pipeline\n",
        "\n",
        "@pipeline\n",
        "def digits_pipeline() :\n",
        "    X_train, X_test, y_train, y_test = importer()\n",
        "    model = svc_trainer(X_train = X_train, y_train = y_train)\n",
        "    evaluator(X_test = X_test, y_test = y_test, model = model)"
      ]
    },
    {
      "cell_type": "code",
      "execution_count": 7,
      "metadata": {
        "colab": {
          "base_uri": "https://localhost:8080/"
        },
        "id": "xX2DFggWpZEu",
        "outputId": "a573ee21-a2ab-4f72-b13d-c0385cea3698"
      },
      "outputs": [
        {
          "name": "stdout",
          "output_type": "stream",
          "text": [
            "\u001b[1;35mInitiating a new run for the pipeline: \u001b[0m\u001b[1;36mdigits_pipeline\u001b[1;35m.\u001b[0m\n",
            "\u001b[1;35mRegistered new pipeline: \u001b[0m\u001b[1;36mdigits_pipeline\u001b[1;35m.\u001b[0m\n",
            "\u001b[1;35mUsing user: \u001b[0m\u001b[1;36mdefault\u001b[1;35m\u001b[0m\n",
            "\u001b[1;35mUsing stack: \u001b[0m\u001b[1;36mdefault\u001b[1;35m\u001b[0m\n",
            "\u001b[1;35m  artifact_store: \u001b[0m\u001b[1;36mdefault\u001b[1;35m\u001b[0m\n",
            "\u001b[1;35m  orchestrator: \u001b[0m\u001b[1;36mdefault\u001b[1;35m\u001b[0m\n",
            "\u001b[1;35mYou can visualize your pipeline runs in the \u001b[0m\u001b[1;36mZenML Dashboard\u001b[1;35m. In order to try it locally, please run \u001b[0m\u001b[1;36mzenml login --local\u001b[1;35m.\u001b[0m\n",
            "\u001b[1;35mStep \u001b[0m\u001b[1;36mimporter\u001b[1;35m has started.\u001b[0m\n",
            "\u001b[33mNo materializer is registered for type \u001b[0m\u001b[1;36m<class 'numpy.ndarray'>\u001b[33m, so the default Pickle materializer was used. Pickle is not production ready and should only be used for prototyping as the artifacts cannot be loaded when running with a different Python version. Please consider implementing a custom materializer for type \u001b[0m\u001b[1;36m<class 'numpy.ndarray'>\u001b[33m according to the instructions at \u001b[0m\u001b[34mhttps://docs.zenml.io/how-to/handle-data-artifacts/handle-custom-data-types\u001b[33m\u001b[0m\n",
            "\u001b[33mNo materializer is registered for type \u001b[0m\u001b[1;36m<class 'numpy.ndarray'>\u001b[33m, so the default Pickle materializer was used. Pickle is not production ready and should only be used for prototyping as the artifacts cannot be loaded when running with a different Python version. Please consider implementing a custom materializer for type \u001b[0m\u001b[1;36m<class 'numpy.ndarray'>\u001b[33m according to the instructions at \u001b[0m\u001b[34mhttps://docs.zenml.io/how-to/handle-data-artifacts/handle-custom-data-types\u001b[33m\u001b[0m\n",
            "\u001b[33mNo materializer is registered for type \u001b[0m\u001b[1;36m<class 'numpy.ndarray'>\u001b[33m, so the default Pickle materializer was used. Pickle is not production ready and should only be used for prototyping as the artifacts cannot be loaded when running with a different Python version. Please consider implementing a custom materializer for type \u001b[0m\u001b[1;36m<class 'numpy.ndarray'>\u001b[33m according to the instructions at \u001b[0m\u001b[34mhttps://docs.zenml.io/how-to/handle-data-artifacts/handle-custom-data-types\u001b[33m\u001b[0m\n",
            "\u001b[33mNo materializer is registered for type \u001b[0m\u001b[1;36m<class 'numpy.ndarray'>\u001b[33m, so the default Pickle materializer was used. Pickle is not production ready and should only be used for prototyping as the artifacts cannot be loaded when running with a different Python version. Please consider implementing a custom materializer for type \u001b[0m\u001b[1;36m<class 'numpy.ndarray'>\u001b[33m according to the instructions at \u001b[0m\u001b[34mhttps://docs.zenml.io/how-to/handle-data-artifacts/handle-custom-data-types\u001b[33m\u001b[0m\n",
            "\u001b[1;35mStep \u001b[0m\u001b[1;36mimporter\u001b[1;35m has finished in \u001b[0m\u001b[1;36m1.285s\u001b[1;35m.\u001b[0m\n",
            "\u001b[1;35mStep \u001b[0m\u001b[1;36msvc_trainer\u001b[1;35m has started.\u001b[0m\n",
            "\u001b[1;35mStep \u001b[0m\u001b[1;36msvc_trainer\u001b[1;35m has finished in \u001b[0m\u001b[1;36m0.381s\u001b[1;35m.\u001b[0m\n",
            "\u001b[1;35mStep \u001b[0m\u001b[1;36mevaluator\u001b[1;35m has started.\u001b[0m\n",
            "test accuracy --> 0.9583333333333334\n",
            "\u001b[1;35mStep \u001b[0m\u001b[1;36mevaluator\u001b[1;35m has finished in \u001b[0m\u001b[1;36m0.178s\u001b[1;35m.\u001b[0m\n",
            "\u001b[1;35mPipeline run has finished in \u001b[0m\u001b[1;36m2.030s\u001b[1;35m.\u001b[0m\n"
          ]
        }
      ],
      "source": [
        "digits_svc_pipeline = digits_pipeline()"
      ]
    },
    {
      "cell_type": "code",
      "execution_count": 8,
      "metadata": {
        "colab": {
          "base_uri": "https://localhost:8080/"
        },
        "id": "L7ZjGlhJpgUO",
        "outputId": "2b2d1e9b-f4c3-49dd-9d83-ea9adda4652b"
      },
      "outputs": [
        {
          "name": "stdout",
          "output_type": "stream",
          "text": [
            "\u001b[33mThe `zenml up` command is deprecated and will be removed in a future release. \u001b[0m\n",
            "\u001b[33mPlease use the `zenml login --local` command instead.\u001b[0m\n",
            "\u001b[2;36mCalling `zenml login --local`\u001b[0m\u001b[2;33m...\u001b[0m\n",
            "\u001b[1;35mDeploying a local daemon ZenML server.\u001b[0m\n",
            "\u001b[?25l\u001b[32m⠋\u001b[0m Starting service 'DaemonZenServer[9a28cb4f-8e24-43ea-b55b-417e3f15a29a] (type:\n",
            "zen_server, flavor: daemon)'.\n",
            "\u001b[2K\u001b[1A\u001b[2K\u001b[1A\u001b[2K\u001b[32m⠙\u001b[0m Starting service 'DaemonZenServer[9a28cb4f-8e24-43ea-b55b-417e3f15a29a] (type:\n",
            "zen_server, flavor: daemon)'.\n",
            "\u001b[2K\u001b[1A\u001b[2K\u001b[1A\u001b[2K\u001b[32m⠹\u001b[0m Starting service 'DaemonZenServer[9a28cb4f-8e24-43ea-b55b-417e3f15a29a] (type:\n",
            "zen_server, flavor: daemon)'.\n",
            "\u001b[2K\u001b[1A\u001b[2K\u001b[1A\u001b[2K\u001b[32m⠸\u001b[0m Starting service 'DaemonZenServer[9a28cb4f-8e24-43ea-b55b-417e3f15a29a] (type:\n",
            "zen_server, flavor: daemon)'.\n",
            "\u001b[2K\u001b[1A\u001b[2K\u001b[1A\u001b[2K\u001b[32m⠼\u001b[0m Starting service 'DaemonZenServer[9a28cb4f-8e24-43ea-b55b-417e3f15a29a] (type:\n",
            "zen_server, flavor: daemon)'.\n",
            "\u001b[2K\u001b[1A\u001b[2K\u001b[1A\u001b[2K\u001b[32m⠴\u001b[0m Starting service 'DaemonZenServer[9a28cb4f-8e24-43ea-b55b-417e3f15a29a] (type:\n",
            "zen_server, flavor: daemon)'.\n",
            "\u001b[2K\u001b[1A\u001b[2K\u001b[1A\u001b[2K\u001b[32m⠦\u001b[0m Starting service 'DaemonZenServer[9a28cb4f-8e24-43ea-b55b-417e3f15a29a] (type:\n",
            "zen_server, flavor: daemon)'.\n",
            "\u001b[2K\u001b[1A\u001b[2K\u001b[1A\u001b[2K\u001b[32m⠧\u001b[0m Starting service 'DaemonZenServer[9a28cb4f-8e24-43ea-b55b-417e3f15a29a] (type:\n",
            "zen_server, flavor: daemon)'.\n",
            "\u001b[2K\u001b[1A\u001b[2K\u001b[1A\u001b[2K\u001b[32m⠇\u001b[0m Starting service 'DaemonZenServer[9a28cb4f-8e24-43ea-b55b-417e3f15a29a] (type:\n",
            "zen_server, flavor: daemon)'.\n",
            "\u001b[2K\u001b[1A\u001b[2K\u001b[1A\u001b[2K\u001b[32m⠏\u001b[0m Starting service 'DaemonZenServer[9a28cb4f-8e24-43ea-b55b-417e3f15a29a] (type:\n",
            "zen_server, flavor: daemon)'.\n",
            "\u001b[2K\u001b[1A\u001b[2K\u001b[1A\u001b[2K\u001b[32m⠋\u001b[0m Starting service 'DaemonZenServer[9a28cb4f-8e24-43ea-b55b-417e3f15a29a] (type:\n",
            "zen_server, flavor: daemon)'.\n",
            "\u001b[2K\u001b[1A\u001b[2K\u001b[1A\u001b[2K\u001b[32m⠙\u001b[0m Starting service 'DaemonZenServer[9a28cb4f-8e24-43ea-b55b-417e3f15a29a] (type:\n",
            "zen_server, flavor: daemon)'.\n",
            "\u001b[2K\u001b[1A\u001b[2K\u001b[1A\u001b[2K\u001b[32m⠹\u001b[0m Starting service 'DaemonZenServer[9a28cb4f-8e24-43ea-b55b-417e3f15a29a] (type:\n",
            "zen_server, flavor: daemon)'.\n",
            "\u001b[2K\u001b[1A\u001b[2K\u001b[1A\u001b[2K\u001b[32m⠸\u001b[0m Starting service 'DaemonZenServer[9a28cb4f-8e24-43ea-b55b-417e3f15a29a] (type:\n",
            "zen_server, flavor: daemon)'.\n",
            "\u001b[2K\u001b[1A\u001b[2K\u001b[1A\u001b[2K\u001b[32m⠼\u001b[0m Starting service 'DaemonZenServer[9a28cb4f-8e24-43ea-b55b-417e3f15a29a] (type:\n",
            "zen_server, flavor: daemon)'.\n",
            "\u001b[2K\u001b[1A\u001b[2K\u001b[1A\u001b[2K\u001b[32m⠴\u001b[0m Starting service 'DaemonZenServer[9a28cb4f-8e24-43ea-b55b-417e3f15a29a] (type:\n",
            "zen_server, flavor: daemon)'.\n",
            "\u001b[2K\u001b[1A\u001b[2K\u001b[1A\u001b[2K\u001b[32m⠦\u001b[0m Starting service 'DaemonZenServer[9a28cb4f-8e24-43ea-b55b-417e3f15a29a] (type:\n",
            "zen_server, flavor: daemon)'.\n",
            "\u001b[2K\u001b[1A\u001b[2K\u001b[1A\u001b[2K\u001b[32m⠧\u001b[0m Starting service 'DaemonZenServer[9a28cb4f-8e24-43ea-b55b-417e3f15a29a] (type:\n",
            "zen_server, flavor: daemon)'.\n",
            "\u001b[2K\u001b[1A\u001b[2K\u001b[1A\u001b[2K\u001b[32m⠇\u001b[0m Starting service 'DaemonZenServer[9a28cb4f-8e24-43ea-b55b-417e3f15a29a] (type:\n",
            "zen_server, flavor: daemon)'.\n",
            "\u001b[2K\u001b[1A\u001b[2K\u001b[1A\u001b[2K\u001b[32m⠏\u001b[0m Starting service 'DaemonZenServer[9a28cb4f-8e24-43ea-b55b-417e3f15a29a] (type:\n",
            "zen_server, flavor: daemon)'.\n",
            "\u001b[2K\u001b[1A\u001b[2K\u001b[1A\u001b[2K\u001b[32m⠋\u001b[0m Starting service 'DaemonZenServer[9a28cb4f-8e24-43ea-b55b-417e3f15a29a] (type:\n",
            "zen_server, flavor: daemon)'.\n",
            "\u001b[2K\u001b[1A\u001b[2K\u001b[1A\u001b[2K\u001b[32m⠙\u001b[0m Starting service 'DaemonZenServer[9a28cb4f-8e24-43ea-b55b-417e3f15a29a] (type:\n",
            "zen_server, flavor: daemon)'.\n",
            "\u001b[2K\u001b[1A\u001b[2K\u001b[1A\u001b[2K\u001b[32m⠹\u001b[0m Starting service 'DaemonZenServer[9a28cb4f-8e24-43ea-b55b-417e3f15a29a] (type:\n",
            "zen_server, flavor: daemon)'.\n",
            "\u001b[2K\u001b[1A\u001b[2K\u001b[1A\u001b[2K\u001b[32m⠸\u001b[0m Starting service 'DaemonZenServer[9a28cb4f-8e24-43ea-b55b-417e3f15a29a] (type:\n",
            "zen_server, flavor: daemon)'.\n",
            "\u001b[2K\u001b[1A\u001b[2K\u001b[1A\u001b[2K\u001b[32m⠼\u001b[0m Starting service 'DaemonZenServer[9a28cb4f-8e24-43ea-b55b-417e3f15a29a] (type:\n",
            "zen_server, flavor: daemon)'.\n",
            "\u001b[2K\u001b[1A\u001b[2K\u001b[1A\u001b[2K\u001b[32m⠴\u001b[0m Starting service 'DaemonZenServer[9a28cb4f-8e24-43ea-b55b-417e3f15a29a] (type:\n",
            "zen_server, flavor: daemon)'.\n",
            "\u001b[2K\u001b[1A\u001b[2K\u001b[1A\u001b[2K\u001b[32m⠦\u001b[0m Starting service 'DaemonZenServer[9a28cb4f-8e24-43ea-b55b-417e3f15a29a] (type:\n",
            "zen_server, flavor: daemon)'.\n",
            "\u001b[2K\u001b[1A\u001b[2K\u001b[1A\u001b[2K\u001b[32m⠧\u001b[0m Starting service 'DaemonZenServer[9a28cb4f-8e24-43ea-b55b-417e3f15a29a] (type:\n",
            "zen_server, flavor: daemon)'.\n",
            "\u001b[2K\u001b[1A\u001b[2K\u001b[1A\u001b[2K\u001b[32m⠇\u001b[0m Starting service 'DaemonZenServer[9a28cb4f-8e24-43ea-b55b-417e3f15a29a] (type:\n",
            "zen_server, flavor: daemon)'.\n",
            "\u001b[2K\u001b[1A\u001b[2K\u001b[1A\u001b[2K\u001b[32m⠏\u001b[0m Starting service 'DaemonZenServer[9a28cb4f-8e24-43ea-b55b-417e3f15a29a] (type:\n",
            "zen_server, flavor: daemon)'.\n",
            "\u001b[2K\u001b[1A\u001b[2K\u001b[1A\u001b[2K\u001b[32m⠋\u001b[0m Starting service 'DaemonZenServer[9a28cb4f-8e24-43ea-b55b-417e3f15a29a] (type:\n",
            "zen_server, flavor: daemon)'.\n",
            "\u001b[2K\u001b[1A\u001b[2K\u001b[1A\u001b[2K\u001b[32m⠙\u001b[0m Starting service 'DaemonZenServer[9a28cb4f-8e24-43ea-b55b-417e3f15a29a] (type:\n",
            "zen_server, flavor: daemon)'.\n",
            "\u001b[2K\u001b[1A\u001b[2K\u001b[1A\u001b[2K\u001b[32m⠹\u001b[0m Starting service 'DaemonZenServer[9a28cb4f-8e24-43ea-b55b-417e3f15a29a] (type:\n",
            "zen_server, flavor: daemon)'.\n",
            "\u001b[2K\u001b[1A\u001b[2K\u001b[1A\u001b[2K\u001b[32m⠸\u001b[0m Starting service 'DaemonZenServer[9a28cb4f-8e24-43ea-b55b-417e3f15a29a] (type:\n",
            "zen_server, flavor: daemon)'.\n",
            "\u001b[2K\u001b[1A\u001b[2K\u001b[1A\u001b[2K\u001b[32m⠼\u001b[0m Starting service 'DaemonZenServer[9a28cb4f-8e24-43ea-b55b-417e3f15a29a] (type:\n",
            "zen_server, flavor: daemon)'.\n",
            "\u001b[2K\u001b[1A\u001b[2K\u001b[1A\u001b[2K\u001b[32m⠴\u001b[0m Starting service 'DaemonZenServer[9a28cb4f-8e24-43ea-b55b-417e3f15a29a] (type:\n",
            "zen_server, flavor: daemon)'.\n",
            "\u001b[2K\u001b[1A\u001b[2K\u001b[1A\u001b[2K\u001b[32m⠦\u001b[0m Starting service 'DaemonZenServer[9a28cb4f-8e24-43ea-b55b-417e3f15a29a] (type:\n",
            "zen_server, flavor: daemon)'.\n",
            "\u001b[2K\u001b[1A\u001b[2K\u001b[1A\u001b[2K\u001b[32m⠧\u001b[0m Starting service 'DaemonZenServer[9a28cb4f-8e24-43ea-b55b-417e3f15a29a] (type:\n",
            "zen_server, flavor: daemon)'.\n",
            "\u001b[2K\u001b[1A\u001b[2K\u001b[1A\u001b[2K\u001b[32m⠇\u001b[0m Starting service 'DaemonZenServer[9a28cb4f-8e24-43ea-b55b-417e3f15a29a] (type:\n",
            "zen_server, flavor: daemon)'.\n",
            "\u001b[2K\u001b[1A\u001b[2K\u001b[1A\u001b[2K\u001b[32m⠏\u001b[0m Starting service 'DaemonZenServer[9a28cb4f-8e24-43ea-b55b-417e3f15a29a] (type:\n",
            "zen_server, flavor: daemon)'.\n",
            "\u001b[2K\u001b[1A\u001b[2K\u001b[1A\u001b[2K\u001b[32m⠋\u001b[0m Starting service 'DaemonZenServer[9a28cb4f-8e24-43ea-b55b-417e3f15a29a] (type:\n",
            "zen_server, flavor: daemon)'.\n",
            "\u001b[2K\u001b[1A\u001b[2K\u001b[1A\u001b[2K\u001b[32m⠙\u001b[0m Starting service 'DaemonZenServer[9a28cb4f-8e24-43ea-b55b-417e3f15a29a] (type:\n",
            "zen_server, flavor: daemon)'.\n",
            "\u001b[2K\u001b[1A\u001b[2K\u001b[1A\u001b[2K\u001b[32m⠹\u001b[0m Starting service 'DaemonZenServer[9a28cb4f-8e24-43ea-b55b-417e3f15a29a] (type:\n",
            "zen_server, flavor: daemon)'.\n",
            "\u001b[2K\u001b[1A\u001b[2K\u001b[1A\u001b[2K\u001b[32m⠸\u001b[0m Starting service 'DaemonZenServer[9a28cb4f-8e24-43ea-b55b-417e3f15a29a] (type:\n",
            "zen_server, flavor: daemon)'.\n",
            "\u001b[2K\u001b[1A\u001b[2K\u001b[1A\u001b[2K\u001b[32m⠼\u001b[0m Starting service 'DaemonZenServer[9a28cb4f-8e24-43ea-b55b-417e3f15a29a] (type:\n",
            "zen_server, flavor: daemon)'.\n",
            "\u001b[2K\u001b[1A\u001b[2K\u001b[1A\u001b[2K\u001b[32m⠴\u001b[0m Starting service 'DaemonZenServer[9a28cb4f-8e24-43ea-b55b-417e3f15a29a] (type:\n",
            "zen_server, flavor: daemon)'.\n",
            "\u001b[2K\u001b[1A\u001b[2K\u001b[1A\u001b[2K\u001b[32m⠦\u001b[0m Starting service 'DaemonZenServer[9a28cb4f-8e24-43ea-b55b-417e3f15a29a] (type:\n",
            "zen_server, flavor: daemon)'.\n",
            "\u001b[2K\u001b[1A\u001b[2K\u001b[1A\u001b[2K\u001b[32m⠧\u001b[0m Starting service 'DaemonZenServer[9a28cb4f-8e24-43ea-b55b-417e3f15a29a] (type:\n",
            "zen_server, flavor: daemon)'.\n",
            "\u001b[2K\u001b[1A\u001b[2K\u001b[1A\u001b[2K\u001b[32m⠇\u001b[0m Starting service 'DaemonZenServer[9a28cb4f-8e24-43ea-b55b-417e3f15a29a] (type:\n",
            "zen_server, flavor: daemon)'.\n",
            "\u001b[2K\u001b[1A\u001b[2K\u001b[1A\u001b[2K\u001b[32m⠏\u001b[0m Starting service 'DaemonZenServer[9a28cb4f-8e24-43ea-b55b-417e3f15a29a] (type:\n",
            "zen_server, flavor: daemon)'.\n",
            "\u001b[2K\u001b[1A\u001b[2K\u001b[1A\u001b[2K\u001b[32m⠋\u001b[0m Starting service 'DaemonZenServer[9a28cb4f-8e24-43ea-b55b-417e3f15a29a] (type:\n",
            "zen_server, flavor: daemon)'.\n",
            "\u001b[2K\u001b[1A\u001b[2K\u001b[1A\u001b[2K\u001b[32m⠙\u001b[0m Starting service 'DaemonZenServer[9a28cb4f-8e24-43ea-b55b-417e3f15a29a] (type:\n",
            "zen_server, flavor: daemon)'.\n",
            "\u001b[2K\u001b[1A\u001b[2K\u001b[1A\u001b[2K\u001b[32m⠹\u001b[0m Starting service 'DaemonZenServer[9a28cb4f-8e24-43ea-b55b-417e3f15a29a] (type:\n",
            "zen_server, flavor: daemon)'.\n",
            "\u001b[2K\u001b[1A\u001b[2K\u001b[1A\u001b[2K\u001b[32m⠸\u001b[0m Starting service 'DaemonZenServer[9a28cb4f-8e24-43ea-b55b-417e3f15a29a] (type:\n",
            "zen_server, flavor: daemon)'.\n",
            "\u001b[2K\u001b[1A\u001b[2K\u001b[1A\u001b[2K\u001b[32m⠼\u001b[0m Starting service 'DaemonZenServer[9a28cb4f-8e24-43ea-b55b-417e3f15a29a] (type:\n",
            "zen_server, flavor: daemon)'.\n",
            "\u001b[2K\u001b[1A\u001b[2K\u001b[1A\u001b[2K\u001b[32m⠴\u001b[0m Starting service 'DaemonZenServer[9a28cb4f-8e24-43ea-b55b-417e3f15a29a] (type:\n",
            "zen_server, flavor: daemon)'.\n",
            "\u001b[2K\u001b[1A\u001b[2K\u001b[1A\u001b[2K\u001b[32m⠦\u001b[0m Starting service 'DaemonZenServer[9a28cb4f-8e24-43ea-b55b-417e3f15a29a] (type:\n",
            "zen_server, flavor: daemon)'.\n",
            "\u001b[2K\u001b[1A\u001b[2K\u001b[1A\u001b[2K\u001b[32m⠧\u001b[0m Starting service 'DaemonZenServer[9a28cb4f-8e24-43ea-b55b-417e3f15a29a] (type:\n",
            "zen_server, flavor: daemon)'.\n",
            "\u001b[2K\u001b[1A\u001b[2K\u001b[1A\u001b[2K\u001b[32m⠇\u001b[0m Starting service 'DaemonZenServer[9a28cb4f-8e24-43ea-b55b-417e3f15a29a] (type:\n",
            "zen_server, flavor: daemon)'.\n",
            "\u001b[2K\u001b[1A\u001b[2K\u001b[1A\u001b[2K\u001b[32m⠏\u001b[0m Starting service 'DaemonZenServer[9a28cb4f-8e24-43ea-b55b-417e3f15a29a] (type:\n",
            "zen_server, flavor: daemon)'.\n",
            "\u001b[2K\u001b[1A\u001b[2K\u001b[1A\u001b[2K\u001b[32m⠋\u001b[0m Starting service 'DaemonZenServer[9a28cb4f-8e24-43ea-b55b-417e3f15a29a] (type:\n",
            "zen_server, flavor: daemon)'.\n",
            "\u001b[2K\u001b[1A\u001b[2K\u001b[1A\u001b[2K\u001b[32m⠙\u001b[0m Starting service 'DaemonZenServer[9a28cb4f-8e24-43ea-b55b-417e3f15a29a] (type:\n",
            "zen_server, flavor: daemon)'.\n",
            "\u001b[2K\u001b[1A\u001b[2K\u001b[1A\u001b[2K\u001b[32m⠹\u001b[0m Starting service 'DaemonZenServer[9a28cb4f-8e24-43ea-b55b-417e3f15a29a] (type:\n",
            "zen_server, flavor: daemon)'.\n",
            "\u001b[2K\u001b[1A\u001b[2K\u001b[1A\u001b[2K\u001b[32m⠸\u001b[0m Starting service 'DaemonZenServer[9a28cb4f-8e24-43ea-b55b-417e3f15a29a] (type:\n",
            "zen_server, flavor: daemon)'.\n",
            "\u001b[2K\u001b[1A\u001b[2K\u001b[1A\u001b[2K\u001b[32m⠼\u001b[0m Starting service 'DaemonZenServer[9a28cb4f-8e24-43ea-b55b-417e3f15a29a] (type:\n",
            "zen_server, flavor: daemon)'.\n",
            "\u001b[2K\u001b[1A\u001b[2K\u001b[1A\u001b[2K\u001b[32m⠴\u001b[0m Starting service 'DaemonZenServer[9a28cb4f-8e24-43ea-b55b-417e3f15a29a] (type:\n",
            "zen_server, flavor: daemon)'.\n",
            "\u001b[2K\u001b[1A\u001b[2K\u001b[1A\u001b[2K\u001b[32m⠦\u001b[0m Starting service 'DaemonZenServer[9a28cb4f-8e24-43ea-b55b-417e3f15a29a] (type:\n",
            "zen_server, flavor: daemon)'.\n",
            "\u001b[2K\u001b[1A\u001b[2K\u001b[1A\u001b[2K\u001b[32m⠧\u001b[0m Starting service 'DaemonZenServer[9a28cb4f-8e24-43ea-b55b-417e3f15a29a] (type:\n",
            "zen_server, flavor: daemon)'.\n",
            "\u001b[2K\u001b[1A\u001b[2K\u001b[1A\u001b[2K\u001b[32m⠇\u001b[0m Starting service 'DaemonZenServer[9a28cb4f-8e24-43ea-b55b-417e3f15a29a] (type:\n",
            "zen_server, flavor: daemon)'.\n",
            "\u001b[2K\u001b[1A\u001b[2K\u001b[1A\u001b[2K\u001b[32m⠏\u001b[0m Starting service 'DaemonZenServer[9a28cb4f-8e24-43ea-b55b-417e3f15a29a] (type:\n",
            "zen_server, flavor: daemon)'.\n",
            "\u001b[2K\u001b[1A\u001b[2K\u001b[1A\u001b[2K\u001b[32m⠋\u001b[0m Starting service 'DaemonZenServer[9a28cb4f-8e24-43ea-b55b-417e3f15a29a] (type:\n",
            "zen_server, flavor: daemon)'.\n",
            "\u001b[2K\u001b[1A\u001b[2K\u001b[1A\u001b[2K\u001b[32m⠙\u001b[0m Starting service 'DaemonZenServer[9a28cb4f-8e24-43ea-b55b-417e3f15a29a] (type:\n",
            "zen_server, flavor: daemon)'.\n",
            "\u001b[2K\u001b[1A\u001b[2K\u001b[1A\u001b[2K\u001b[32m⠹\u001b[0m Starting service 'DaemonZenServer[9a28cb4f-8e24-43ea-b55b-417e3f15a29a] (type:\n",
            "zen_server, flavor: daemon)'.\n",
            "\u001b[2K\u001b[1A\u001b[2K\u001b[1A\u001b[2K\u001b[32m⠸\u001b[0m Starting service 'DaemonZenServer[9a28cb4f-8e24-43ea-b55b-417e3f15a29a] (type:\n",
            "zen_server, flavor: daemon)'.\n",
            "\u001b[2K\u001b[1A\u001b[2K\u001b[1A\u001b[2K\u001b[32m⠼\u001b[0m Starting service 'DaemonZenServer[9a28cb4f-8e24-43ea-b55b-417e3f15a29a] (type:\n",
            "zen_server, flavor: daemon)'.\n",
            "\u001b[2K\u001b[1A\u001b[2K\u001b[1A\u001b[2K\u001b[32m⠴\u001b[0m Starting service 'DaemonZenServer[9a28cb4f-8e24-43ea-b55b-417e3f15a29a] (type:\n",
            "zen_server, flavor: daemon)'.\n",
            "\u001b[2K\u001b[1A\u001b[2K\u001b[1A\u001b[2K\u001b[32m⠦\u001b[0m Starting service 'DaemonZenServer[9a28cb4f-8e24-43ea-b55b-417e3f15a29a] (type:\n",
            "zen_server, flavor: daemon)'.\n",
            "\u001b[2K\u001b[1A\u001b[2K\u001b[1A\u001b[2K\u001b[32m⠧\u001b[0m Starting service 'DaemonZenServer[9a28cb4f-8e24-43ea-b55b-417e3f15a29a] (type:\n",
            "zen_server, flavor: daemon)'.\n",
            "\u001b[2K\u001b[1A\u001b[2K\u001b[1A\u001b[2K\u001b[32m⠇\u001b[0m Starting service 'DaemonZenServer[9a28cb4f-8e24-43ea-b55b-417e3f15a29a] (type:\n",
            "zen_server, flavor: daemon)'.\n",
            "\u001b[2K\u001b[1A\u001b[2K\u001b[1A\u001b[2K\u001b[32m⠏\u001b[0m Starting service 'DaemonZenServer[9a28cb4f-8e24-43ea-b55b-417e3f15a29a] (type:\n",
            "zen_server, flavor: daemon)'.\n",
            "\u001b[2K\u001b[1A\u001b[2K\u001b[1A\u001b[2K\u001b[32m⠋\u001b[0m Starting service 'DaemonZenServer[9a28cb4f-8e24-43ea-b55b-417e3f15a29a] (type:\n",
            "zen_server, flavor: daemon)'.\n",
            "\u001b[2K\u001b[1A\u001b[2K\u001b[1A\u001b[2K\u001b[32m⠙\u001b[0m Starting service 'DaemonZenServer[9a28cb4f-8e24-43ea-b55b-417e3f15a29a] (type:\n",
            "zen_server, flavor: daemon)'.\n",
            "\u001b[2K\u001b[1A\u001b[2K\u001b[1A\u001b[2K\u001b[32m⠹\u001b[0m Starting service 'DaemonZenServer[9a28cb4f-8e24-43ea-b55b-417e3f15a29a] (type:\n",
            "zen_server, flavor: daemon)'.\n",
            "\u001b[2K\u001b[1A\u001b[2K\u001b[1A\u001b[2K\u001b[32m⠸\u001b[0m Starting service 'DaemonZenServer[9a28cb4f-8e24-43ea-b55b-417e3f15a29a] (type:\n",
            "zen_server, flavor: daemon)'.\n",
            "\u001b[2K\u001b[1A\u001b[2K\u001b[1A\u001b[2K\u001b[32m⠼\u001b[0m Starting service 'DaemonZenServer[9a28cb4f-8e24-43ea-b55b-417e3f15a29a] (type:\n",
            "zen_server, flavor: daemon)'.\n",
            "\u001b[2K\u001b[1A\u001b[2K\u001b[1A\u001b[2K\u001b[32m⠴\u001b[0m Starting service 'DaemonZenServer[9a28cb4f-8e24-43ea-b55b-417e3f15a29a] (type:\n",
            "zen_server, flavor: daemon)'.\n",
            "\u001b[2K\u001b[1A\u001b[2K\u001b[1A\u001b[2K\u001b[32m⠦\u001b[0m Starting service 'DaemonZenServer[9a28cb4f-8e24-43ea-b55b-417e3f15a29a] (type:\n",
            "zen_server, flavor: daemon)'.\n",
            "\u001b[2K\u001b[1A\u001b[2K\u001b[1A\u001b[2K\u001b[32m⠧\u001b[0m Starting service 'DaemonZenServer[9a28cb4f-8e24-43ea-b55b-417e3f15a29a] (type:\n",
            "zen_server, flavor: daemon)'.\n",
            "\u001b[2K\u001b[1A\u001b[2K\u001b[1A\u001b[2K\u001b[32m⠇\u001b[0m Starting service 'DaemonZenServer[9a28cb4f-8e24-43ea-b55b-417e3f15a29a] (type:\n",
            "zen_server, flavor: daemon)'.\n",
            "\u001b[2K\u001b[1A\u001b[2K\u001b[1A\u001b[2K\u001b[32m⠏\u001b[0m Starting service 'DaemonZenServer[9a28cb4f-8e24-43ea-b55b-417e3f15a29a] (type:\n",
            "zen_server, flavor: daemon)'.\n",
            "\u001b[2K\u001b[1A\u001b[2K\u001b[1A\u001b[2K\u001b[32m⠋\u001b[0m Starting service 'DaemonZenServer[9a28cb4f-8e24-43ea-b55b-417e3f15a29a] (type:\n",
            "zen_server, flavor: daemon)'.\n",
            "\u001b[2K\u001b[1A\u001b[2K\u001b[1A\u001b[2K\u001b[32m⠙\u001b[0m Starting service 'DaemonZenServer[9a28cb4f-8e24-43ea-b55b-417e3f15a29a] (type:\n",
            "zen_server, flavor: daemon)'.\n",
            "\u001b[2K\u001b[1A\u001b[2K\u001b[1A\u001b[2K\u001b[32m⠹\u001b[0m Starting service 'DaemonZenServer[9a28cb4f-8e24-43ea-b55b-417e3f15a29a] (type:\n",
            "zen_server, flavor: daemon)'.\n",
            "\u001b[2K\u001b[1A\u001b[2K\u001b[1A\u001b[2K\u001b[32m⠸\u001b[0m Starting service 'DaemonZenServer[9a28cb4f-8e24-43ea-b55b-417e3f15a29a] (type:\n",
            "zen_server, flavor: daemon)'.\n",
            "\u001b[2K\u001b[1A\u001b[2K\u001b[1A\u001b[2K\u001b[32m⠼\u001b[0m Starting service 'DaemonZenServer[9a28cb4f-8e24-43ea-b55b-417e3f15a29a] (type:\n",
            "zen_server, flavor: daemon)'.\n",
            "\u001b[2K\u001b[1A\u001b[2K\u001b[1A\u001b[2K\u001b[32m⠴\u001b[0m Starting service 'DaemonZenServer[9a28cb4f-8e24-43ea-b55b-417e3f15a29a] (type:\n",
            "zen_server, flavor: daemon)'.\n",
            "\u001b[2K\u001b[1A\u001b[2K\u001b[1A\u001b[2K\u001b[32m⠦\u001b[0m Starting service 'DaemonZenServer[9a28cb4f-8e24-43ea-b55b-417e3f15a29a] (type:\n",
            "zen_server, flavor: daemon)'.\n",
            "\u001b[2K\u001b[1A\u001b[2K\u001b[1A\u001b[2K\u001b[32m⠧\u001b[0m Starting service 'DaemonZenServer[9a28cb4f-8e24-43ea-b55b-417e3f15a29a] (type:\n",
            "zen_server, flavor: daemon)'.\n",
            "\u001b[2K\u001b[1A\u001b[2K\u001b[1A\u001b[2K\u001b[32m⠇\u001b[0m Starting service 'DaemonZenServer[9a28cb4f-8e24-43ea-b55b-417e3f15a29a] (type:\n",
            "zen_server, flavor: daemon)'.\n",
            "\u001b[2K\u001b[1A\u001b[2K\u001b[1A\u001b[2K\u001b[32m⠏\u001b[0m Starting service 'DaemonZenServer[9a28cb4f-8e24-43ea-b55b-417e3f15a29a] (type:\n",
            "zen_server, flavor: daemon)'.\n",
            "\u001b[2K\u001b[1A\u001b[2K\u001b[1A\u001b[2K\u001b[32m⠙\u001b[0m Starting service 'DaemonZenServer[9a28cb4f-8e24-43ea-b55b-417e3f15a29a] (type:\n",
            "zen_server, flavor: daemon)'.\n",
            "\u001b[2K\u001b[1A\u001b[2K\u001b[1A\u001b[2K\u001b[32m⠹\u001b[0m Starting service 'DaemonZenServer[9a28cb4f-8e24-43ea-b55b-417e3f15a29a] (type:\n",
            "zen_server, flavor: daemon)'.\n",
            "\u001b[2K\u001b[1A\u001b[2K\u001b[1A\u001b[2K\u001b[32m⠸\u001b[0m Starting service 'DaemonZenServer[9a28cb4f-8e24-43ea-b55b-417e3f15a29a] (type:\n",
            "zen_server, flavor: daemon)'.\n",
            "\u001b[2K\u001b[1A\u001b[2K\u001b[1A\u001b[2K\u001b[32m⠼\u001b[0m Starting service 'DaemonZenServer[9a28cb4f-8e24-43ea-b55b-417e3f15a29a] (type:\n",
            "zen_server, flavor: daemon)'.\n",
            "\u001b[2K\u001b[1A\u001b[2K\u001b[1A\u001b[2K\u001b[32m⠴\u001b[0m Starting service 'DaemonZenServer[9a28cb4f-8e24-43ea-b55b-417e3f15a29a] (type:\n",
            "zen_server, flavor: daemon)'.\n",
            "\u001b[2K\u001b[1A\u001b[2K\u001b[1A\u001b[2K\u001b[32m⠦\u001b[0m Starting service 'DaemonZenServer[9a28cb4f-8e24-43ea-b55b-417e3f15a29a] (type:\n",
            "zen_server, flavor: daemon)'.\n",
            "\u001b[2K\u001b[1A\u001b[2K\u001b[1A\u001b[2K\u001b[32m⠧\u001b[0m Starting service 'DaemonZenServer[9a28cb4f-8e24-43ea-b55b-417e3f15a29a] (type:\n",
            "zen_server, flavor: daemon)'.\n",
            "\u001b[2K\u001b[1A\u001b[2K\u001b[1A\u001b[2K\u001b[32m⠇\u001b[0m Starting service 'DaemonZenServer[9a28cb4f-8e24-43ea-b55b-417e3f15a29a] (type:\n",
            "zen_server, flavor: daemon)'.\n",
            "\u001b[2K\u001b[1A\u001b[2K\u001b[1A\u001b[2K\u001b[32m⠏\u001b[0m Starting service 'DaemonZenServer[9a28cb4f-8e24-43ea-b55b-417e3f15a29a] (type:\n",
            "zen_server, flavor: daemon)'.\n",
            "\u001b[2K\u001b[1A\u001b[2K\u001b[1A\u001b[2K\u001b[32m⠋\u001b[0m Starting service 'DaemonZenServer[9a28cb4f-8e24-43ea-b55b-417e3f15a29a] (type:\n",
            "zen_server, flavor: daemon)'.\n",
            "\u001b[2K\u001b[1A\u001b[2K\u001b[1A\u001b[2K\u001b[32m⠙\u001b[0m Starting service 'DaemonZenServer[9a28cb4f-8e24-43ea-b55b-417e3f15a29a] (type:\n",
            "zen_server, flavor: daemon)'.\n",
            "\u001b[2K\u001b[1A\u001b[2K\u001b[1A\u001b[2K\u001b[32m⠹\u001b[0m Starting service 'DaemonZenServer[9a28cb4f-8e24-43ea-b55b-417e3f15a29a] (type:\n",
            "zen_server, flavor: daemon)'.\n",
            "\u001b[2K\u001b[1A\u001b[2K\u001b[1A\u001b[2K\u001b[32m⠸\u001b[0m Starting service 'DaemonZenServer[9a28cb4f-8e24-43ea-b55b-417e3f15a29a] (type:\n",
            "zen_server, flavor: daemon)'.\n",
            "\u001b[2K\u001b[1A\u001b[2K\u001b[1A\u001b[2K\u001b[32m⠼\u001b[0m Starting service 'DaemonZenServer[9a28cb4f-8e24-43ea-b55b-417e3f15a29a] (type:\n",
            "zen_server, flavor: daemon)'.\n",
            "\u001b[2K\u001b[1A\u001b[2K\u001b[1A\u001b[2K\u001b[32m⠴\u001b[0m Starting service 'DaemonZenServer[9a28cb4f-8e24-43ea-b55b-417e3f15a29a] (type:\n",
            "zen_server, flavor: daemon)'.\n",
            "\u001b[2K\u001b[1A\u001b[2K\u001b[1A\u001b[2K\u001b[32m⠦\u001b[0m Starting service 'DaemonZenServer[9a28cb4f-8e24-43ea-b55b-417e3f15a29a] (type:\n",
            "zen_server, flavor: daemon)'.\n",
            "\u001b[2K\u001b[1A\u001b[2K\u001b[1A\u001b[2K\u001b[32m⠧\u001b[0m Starting service 'DaemonZenServer[9a28cb4f-8e24-43ea-b55b-417e3f15a29a] (type:\n",
            "zen_server, flavor: daemon)'.\n",
            "\u001b[2K\u001b[1A\u001b[2K\u001b[1A\u001b[2K\u001b[32m⠇\u001b[0m Starting service 'DaemonZenServer[9a28cb4f-8e24-43ea-b55b-417e3f15a29a] (type:\n",
            "zen_server, flavor: daemon)'.\n",
            "\u001b[2K\u001b[1A\u001b[2K\u001b[1A\u001b[2K\u001b[32m⠏\u001b[0m Starting service 'DaemonZenServer[9a28cb4f-8e24-43ea-b55b-417e3f15a29a] (type:\n",
            "zen_server, flavor: daemon)'.\n",
            "\u001b[2K\u001b[1A\u001b[2K\u001b[1A\u001b[2K\u001b[32m⠋\u001b[0m Starting service 'DaemonZenServer[9a28cb4f-8e24-43ea-b55b-417e3f15a29a] (type:\n",
            "zen_server, flavor: daemon)'.\n",
            "\u001b[2K\u001b[1A\u001b[2K\u001b[1A\u001b[2K\u001b[32m⠙\u001b[0m Starting service 'DaemonZenServer[9a28cb4f-8e24-43ea-b55b-417e3f15a29a] (type:\n",
            "zen_server, flavor: daemon)'.\n",
            "\u001b[2K\u001b[1A\u001b[2K\u001b[1A\u001b[2K\u001b[32m⠹\u001b[0m Starting service 'DaemonZenServer[9a28cb4f-8e24-43ea-b55b-417e3f15a29a] (type:\n",
            "zen_server, flavor: daemon)'.\n",
            "\u001b[2K\u001b[1A\u001b[2K\u001b[1A\u001b[2K\u001b[32m⠸\u001b[0m Starting service 'DaemonZenServer[9a28cb4f-8e24-43ea-b55b-417e3f15a29a] (type:\n",
            "zen_server, flavor: daemon)'.\n",
            "\n",
            "\u001b[1A\u001b[2K\u001b[1A\u001b[2K\u001b[1A\u001b[2K\u001b[1;35mConnecting to the local daemon ZenML server (\u001b[0m\u001b[34mhttp://127.0.0.1:8237).\u001b[1;35m\u001b[0m\n",
            "\u001b[1;35mUpdated the global store configuration.\u001b[0m\n",
            "\u001b[1;35mConnected to the local daemon ZenML server (\u001b[0m\u001b[34mhttp://127.0.0.1:8237).\u001b[1;35m\u001b[0m\n",
            "\u001b[2;36mThe local ZenML dashboard is available at \u001b[0m\u001b[2;32m'http://127.0.0.1:8237'\u001b[0m\u001b[2;36m.\u001b[0m\n",
            "\u001b[1;35mThe ZenML dashboard is available at \u001b[0m\u001b[34mhttp://127.0.0.1:8237.\u001b[1;35m\u001b[0m\n"
          ]
        }
      ],
      "source": [
        "from zenml.environment import Environment\n",
        "\n",
        "def start_zenml_dashboar(port = 8237) :\n",
        "    if Environment.in_google_colab() :\n",
        "        from pyngrok import ngrok\n",
        "        public_url = ngrok.connect(port)\n",
        "        print(f\"In colab, use this URL instead : {public_url}\")\n",
        "        !zenml up --blocking --port {port}\n",
        "\n",
        "    else :\n",
        "        !zenml up --port {port}\n",
        "\n",
        "start_zenml_dashboar()"
      ]
    },
    {
      "cell_type": "markdown",
      "metadata": {
        "id": "mKVfrondsMYp"
      },
      "source": [
        "Use default as username and url https://1710-35-196-19-64.ngrok-free.app"
      ]
    },
    {
      "cell_type": "code",
      "execution_count": null,
      "metadata": {
        "id": "fYorZ-P0qLv-"
      },
      "outputs": [],
      "source": []
    }
  ],
  "metadata": {
    "colab": {
      "provenance": []
    },
    "kernelspec": {
      "display_name": ".venv",
      "language": "python",
      "name": "python3"
    },
    "language_info": {
      "codemirror_mode": {
        "name": "ipython",
        "version": 3
      },
      "file_extension": ".py",
      "mimetype": "text/x-python",
      "name": "python",
      "nbconvert_exporter": "python",
      "pygments_lexer": "ipython3",
      "version": "3.12.1"
    }
  },
  "nbformat": 4,
  "nbformat_minor": 0
}
